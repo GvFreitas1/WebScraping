{
 "cells": [
  {
   "cell_type": "code",
   "execution_count": null,
   "metadata": {},
   "outputs": [],
   "source": [
    "# Instalando as bibliotecas para o web scraping\n",
    "\n",
    "%pip install selenium\n",
    "%pip install beautifulsoup4"
   ]
  },
  {
   "cell_type": "code",
   "execution_count": null,
   "metadata": {},
   "outputs": [],
   "source": [
    "# Importando as Bibliotecas\n",
    "\n",
    "from bs4 import BeautifulSoup\n",
    "import pandas as pd\n",
    "from selenium import webdriver\n",
    "from selenium.webdriver.common.by import By\n",
    "from selenium.webdriver.support.ui import WebDriverWait\n",
    "from selenium.webdriver.support import expected_conditions as EC\n",
    "from multiprocessing.dummy import Pool as ThreadPool\n",
    "import time"
   ]
  },
  {
   "cell_type": "code",
   "execution_count": null,
   "metadata": {},
   "outputs": [],
   "source": [
    "def pegar_conteudo(url):\n",
    "    dados_curso = [url.split('/')[4]]\n",
    "\n",
    "    driver = webdriver.Firefox(options=opcoes)\n",
    "    driver.get(url)\n",
    "    try:\n",
    "        WebDriverWait(driver, 10).until(EC.presence_of_element_located((By.CLASS_NAME, 'CourseAbout__header__title')))\n",
    "    except:\n",
    "        driver.quit()\n",
    "        return None\n",
    "    conteudo = BeautifulSoup(driver.page_source, 'html.parser')    \n",
    "    driver.quit()\n",
    "    try:\n",
    "        nome_curso = conteudo.find('h1', class_='CourseAbout__header__title').text\n",
    "    except:\n",
    "        nome_curso = ''\n",
    "\n",
    "    if len(nome_curso) == 0:\n",
    "        nome_curso = 'Nome não disponível'\n",
    "    dados_curso.append(nome_curso)\n",
    "\n",
    "    try:\n",
    "        num_alunos = int(conteudo.find('div', class_='CourseAbout__header__info CourseAbout__header__info--students').text[:-7])\n",
    "    except:\n",
    "        num_alunos = 'Número de alunos não disponível'\n",
    "    dados_curso.append(num_alunos)\n",
    "\n",
    "    return dados_curso\n",
    "\n",
    "def pegar_dados(curso_max):\n",
    "\n",
    "    base_url = 'https://app.sapium.com.br/course/{}/about'\n",
    "    urls = [base_url.format(i) for i in range(1, curso_max)]\n",
    "\n",
    "    global opcoes\n",
    "    opcoes = webdriver.FirefoxOptions()\n",
    "\n",
    "    pool = ThreadPool(6)\n",
    "    dados_cursos = pool.map(pegar_conteudo, urls)\n",
    "    pool.close()\n",
    "    pool.join()\n",
    "    dados_cursos = [dado for dado in dados_cursos if dado]\n",
    "    cursos_df = pd.DataFrame(dados_cursos, columns=['Número', 'Nome', 'Número de Alunos'])\n",
    "    cursos_df = cursos_df.set_index('Número')\n",
    "\n",
    "    return cursos_df\n",
    "\n",
    "cursos_df = pegar_dados(10)\n",
    "cursos_df"
   ]
  },
  {
   "cell_type": "code",
   "execution_count": null,
   "metadata": {},
   "outputs": [],
   "source": [
    "cursos_df[cursos_df[\"Número de Alunos\"] > 1000]"
   ]
  }
 ],
 "metadata": {
  "language_info": {
   "name": "python"
  },
  "orig_nbformat": 4
 },
 "nbformat": 4,
 "nbformat_minor": 2
}
