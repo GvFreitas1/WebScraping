{
 "cells": [
  {
   "cell_type": "code",
   "execution_count": 1,
   "metadata": {},
   "outputs": [
    {
     "name": "stdout",
     "output_type": "stream",
     "text": [
      "Requirement already satisfied: selenium in c:\\users\\user\\appdata\\local\\programs\\python\\python311\\lib\\site-packages (4.12.0)\n",
      "Requirement already satisfied: urllib3[socks]<3,>=1.26 in c:\\users\\user\\appdata\\local\\programs\\python\\python311\\lib\\site-packages (from selenium) (1.26.16)\n",
      "Requirement already satisfied: trio~=0.17 in c:\\users\\user\\appdata\\local\\programs\\python\\python311\\lib\\site-packages (from selenium) (0.22.2)\n",
      "Requirement already satisfied: trio-websocket~=0.9 in c:\\users\\user\\appdata\\local\\programs\\python\\python311\\lib\\site-packages (from selenium) (0.10.4)\n",
      "Requirement already satisfied: certifi>=2021.10.8 in c:\\users\\user\\appdata\\local\\programs\\python\\python311\\lib\\site-packages (from selenium) (2023.5.7)\n",
      "Requirement already satisfied: attrs>=20.1.0 in c:\\users\\user\\appdata\\local\\programs\\python\\python311\\lib\\site-packages (from trio~=0.17->selenium) (23.1.0)\n",
      "Requirement already satisfied: sortedcontainers in c:\\users\\user\\appdata\\local\\programs\\python\\python311\\lib\\site-packages (from trio~=0.17->selenium) (2.4.0)\n",
      "Requirement already satisfied: idna in c:\\users\\user\\appdata\\local\\programs\\python\\python311\\lib\\site-packages (from trio~=0.17->selenium) (3.4)\n",
      "Requirement already satisfied: outcome in c:\\users\\user\\appdata\\local\\programs\\python\\python311\\lib\\site-packages (from trio~=0.17->selenium) (1.2.0)\n",
      "Requirement already satisfied: sniffio in c:\\users\\user\\appdata\\local\\programs\\python\\python311\\lib\\site-packages (from trio~=0.17->selenium) (1.3.0)\n",
      "Requirement already satisfied: cffi>=1.14 in c:\\users\\user\\appdata\\local\\programs\\python\\python311\\lib\\site-packages (from trio~=0.17->selenium) (1.15.1)\n",
      "Requirement already satisfied: exceptiongroup in c:\\users\\user\\appdata\\local\\programs\\python\\python311\\lib\\site-packages (from trio-websocket~=0.9->selenium) (1.1.3)\n",
      "Requirement already satisfied: wsproto>=0.14 in c:\\users\\user\\appdata\\local\\programs\\python\\python311\\lib\\site-packages (from trio-websocket~=0.9->selenium) (1.2.0)\n",
      "Requirement already satisfied: PySocks!=1.5.7,<2.0,>=1.5.6 in c:\\users\\user\\appdata\\local\\programs\\python\\python311\\lib\\site-packages (from urllib3[socks]<3,>=1.26->selenium) (1.7.1)\n",
      "Requirement already satisfied: pycparser in c:\\users\\user\\appdata\\local\\programs\\python\\python311\\lib\\site-packages (from cffi>=1.14->trio~=0.17->selenium) (2.21)\n",
      "Requirement already satisfied: h11<1,>=0.9.0 in c:\\users\\user\\appdata\\local\\programs\\python\\python311\\lib\\site-packages (from wsproto>=0.14->trio-websocket~=0.9->selenium) (0.14.0)\n",
      "Note: you may need to restart the kernel to use updated packages.\n",
      "Requirement already satisfied: beautifulsoup4 in c:\\users\\user\\appdata\\local\\programs\\python\\python311\\lib\\site-packages (4.12.2)\n",
      "Requirement already satisfied: soupsieve>1.2 in c:\\users\\user\\appdata\\local\\programs\\python\\python311\\lib\\site-packages (from beautifulsoup4) (2.4.1)\n",
      "Note: you may need to restart the kernel to use updated packages.\n"
     ]
    }
   ],
   "source": [
    "# Instalando as bibliotecas para o web scraping\n",
    "\n",
    "%pip install selenium\n",
    "%pip install beautifulsoup4"
   ]
  },
  {
   "cell_type": "code",
   "execution_count": 1,
   "metadata": {},
   "outputs": [],
   "source": [
    "# Importando as Bibliotecas\n",
    "\n",
    "from bs4 import BeautifulSoup\n",
    "import pandas as pd\n",
    "from selenium import webdriver\n",
    "from selenium.webdriver.common.by import By\n",
    "from selenium.webdriver.support.ui import WebDriverWait\n",
    "from selenium.webdriver.support import expected_conditions as EC\n",
    "from multiprocessing.dummy import Pool as ThreadPool"
   ]
  },
  {
   "cell_type": "code",
   "execution_count": 2,
   "metadata": {},
   "outputs": [],
   "source": [
    "def pegar_conteudo(url):\n",
    "    dados_curso = [url.split('/')[4]]\n",
    "\n",
    "    driver = webdriver.Firefox(options=opcoes)\n",
    "    driver.get(url)\n",
    "    try:\n",
    "        WebDriverWait(driver, 10).until(EC.presence_of_element_located((By.CLASS_NAME, 'CourseAbout__header__title')) and EC.presence_of_element_located((By.CLASS_NAME, 'CourseAbout__header__info')))\n",
    "\n",
    "        conteudo = BeautifulSoup(driver.page_source, 'html.parser')    \n",
    "        driver.quit()\n",
    "        try:\n",
    "            nome_curso = conteudo.find('h1', class_='CourseAbout__header__title').text\n",
    "        except:\n",
    "            nome_curso = ''\n",
    "\n",
    "        if len(nome_curso) == 0:\n",
    "            nome_curso = 'Nome não disponível'\n",
    "        dados_curso.append(nome_curso)\n",
    "\n",
    "        try:\n",
    "            num_alunos = int(conteudo.find('div', class_='CourseAbout__header__info CourseAbout__header__info--students').text[:-7])\n",
    "        except:\n",
    "            num_alunos = 'Número de alunos não disponível'\n",
    "        dados_curso.append(num_alunos)\n",
    "\n",
    "        return dados_curso\n",
    "    except:\n",
    "        driver.quit()\n",
    "        return None\n",
    "\n",
    "def pegar_dados(curso_max):\n",
    "\n",
    "    base_url = 'https://app.sapium.com.br/course/{}/about'\n",
    "    urls = [base_url.format(i) for i in range(1, curso_max)]\n",
    "\n",
    "    global opcoes\n",
    "    opcoes = webdriver.FirefoxOptions()\n",
    "\n",
    "    pool = ThreadPool(8)\n",
    "    dados_cursos = pool.map(pegar_conteudo, urls)\n",
    "    pool.close()\n",
    "    pool.join()\n",
    "\n",
    "    dados_cursos = [dado for dado in dados_cursos if dado]\n",
    "\n",
    "    cursos_df = pd.DataFrame(dados_cursos, columns=['Número', 'Nome', 'Número de Alunos'])\n",
    "    cursos_df = cursos_df.set_index('Número')\n",
    "\n",
    "    return cursos_df\n",
    "\n",
    "cursos_df = pegar_dados(8)\n",
    "cursos_df"
   ]
  },
  {
   "cell_type": "code",
   "execution_count": 8,
   "metadata": {},
   "outputs": [
    {
     "name": "stdout",
     "output_type": "stream",
     "text": [
      "Nome                SAUDAÇÕES EM ESPANHOL - AULA GRATUITA\n",
      "Número de Alunos                                     1751\n",
      "Name: 1013, dtype: object\n",
      "Nome                Curso Produção de Imagens e Vídeos para Profes...\n",
      "Número de Alunos                                                 3197\n",
      "Name: 1129, dtype: object\n",
      "Nome                INTENSIVO DE ESPANHOL ARGENTINO A1-B2  COM PRE...\n",
      "Número de Alunos                                                 1127\n",
      "Name: 1330, dtype: object\n",
      "Nome                KIT - Método de Vendas Exponencial para Cursos\n",
      "Número de Alunos                                              1346\n",
      "Name: 1626, dtype: object\n",
      "Nome                Geração de Mapas Digitais com o Google\n",
      "Número de Alunos                                      1851\n",
      "Name: 1630, dtype: object\n",
      "Nome                COMUNICAÇÃO CARTOGRÁFICA E A LINGUAGEM DOS MAPAS\n",
      "Número de Alunos                                                1703\n",
      "Name: 1905, dtype: object\n",
      "Nome                GEOPROCESSAMENTO COM O USO DO QGIS\n",
      "Número de Alunos                                  4990\n",
      "Name: 2951, dtype: object\n"
     ]
    }
   ],
   "source": [
    "for i in range(1, len(cursos_df[\"Número de Alunos\"])):\n",
    "    try:\n",
    "        if cursos_df[\"Número de Alunos\"][i] > 1000:\n",
    "            print(cursos_df.iloc[i])\n",
    "    except:\n",
    "        pass"
   ]
  }
 ],
 "metadata": {
  "kernelspec": {
   "display_name": "Python 3",
   "language": "python",
   "name": "python3"
  },
  "language_info": {
   "codemirror_mode": {
    "name": "ipython",
    "version": 3
   },
   "file_extension": ".py",
   "mimetype": "text/x-python",
   "name": "python",
   "nbconvert_exporter": "python",
   "pygments_lexer": "ipython3",
   "version": "3.11.3"
  },
  "orig_nbformat": 4
 },
 "nbformat": 4,
 "nbformat_minor": 2
}
